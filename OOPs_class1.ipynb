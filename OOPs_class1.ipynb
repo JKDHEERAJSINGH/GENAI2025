{
  "nbformat": 4,
  "nbformat_minor": 0,
  "metadata": {
    "colab": {
      "provenance": []
    },
    "kernelspec": {
      "name": "python3",
      "display_name": "Python 3"
    },
    "language_info": {
      "name": "python"
    }
  },
  "cells": [
    {
      "cell_type": "code",
      "execution_count": null,
      "metadata": {
        "colab": {
          "base_uri": "https://localhost:8080/"
        },
        "id": "7AacY0-9y18c",
        "outputId": "834b8318-03b1-41c9-a0da-a9ae3725682b"
      },
      "outputs": [
        {
          "output_type": "stream",
          "name": "stdout",
          "text": [
            "hello dheeru bhai\n"
          ]
        }
      ],
      "source": [
        "class Name:\n",
        "  def greet (self):\n",
        "    return \"hello \" + self.name\n",
        "\n",
        "p1=Name()\n",
        "p1.name=\"dheeru bhai\"\n",
        "print(p1.greet())"
      ]
    },
    {
      "cell_type": "code",
      "source": [
        "\n",
        "class Marks:\n",
        "  def __init__(self,marks,attandance):\n",
        "    self.marks=marks\n",
        "    self.attandance=attandance\n",
        "  def grades(self):\n",
        "    if self.marks<50:\n",
        "      return \"fail\"\n",
        "    elif self.marks>=50:\n",
        "      return \"pass\"\n",
        "  def attand(self):\n",
        "    if self.attandance <= 45:\n",
        "      return \"not qualified\"\n",
        "    elif self.attandance >= 70:\n",
        "      return \"qualified\"\n",
        "p1= Marks(50,50)\n",
        "p1.grades()\n",
        "p1.attand()"
      ],
      "metadata": {
        "id": "CfN0AvMTEBRT"
      },
      "execution_count": null,
      "outputs": []
    },
    {
      "cell_type": "code",
      "source": [
        "class Marks:\n",
        "  def __init__(self,name,marks,attendance):\n",
        "    self.attendance=attendance\n",
        "    self.name=name\n",
        "    self.marks=marks\n",
        "\n",
        "# Example usage\n",
        "student1 = Marks(\"Alice\", 70, True)\n",
        "print(f\"{student1.name} has {student1.marks} marks and attendance is {student1.attendance}\")"
      ],
      "metadata": {
        "colab": {
          "base_uri": "https://localhost:8080/"
        },
        "id": "DiBXHc4R6S2R",
        "outputId": "def64c6c-a97f-429f-c85d-36c0a7fe8f29"
      },
      "execution_count": null,
      "outputs": [
        {
          "output_type": "stream",
          "name": "stdout",
          "text": [
            "Alice has 70 marks and attendance is True\n"
          ]
        }
      ]
    },
    {
      "cell_type": "code",
      "source": [
        "\n",
        "class Marks:\n",
        "  def __init__(self,marks,attandance):\n",
        "    self.marks=marks\n",
        "    self.attandance=attandance\n",
        "  def grades(self):\n",
        "    if self.marks<50:\n",
        "      print(\"fail\")\n",
        "    elif self.marks>=50:\n",
        "      print(\"pass\")\n",
        "  def attand(self):\n",
        "    if self.attandance <= 45:\n",
        "      print(\"not qualified\")\n",
        "    elif self.attandance >= 70:\n",
        "      print(\"qualified\")\n",
        "p1= Marks(50,60)\n",
        "p1.grades()\n",
        "p1.attand()"
      ],
      "metadata": {
        "colab": {
          "base_uri": "https://localhost:8080/"
        },
        "id": "Fb0b0L_W6SzU",
        "outputId": "75920bba-bd6f-4597-d9e0-c2bda8d91077"
      },
      "execution_count": null,
      "outputs": [
        {
          "output_type": "stream",
          "name": "stdout",
          "text": [
            "pass\n"
          ]
        }
      ]
    },
    {
      "cell_type": "code",
      "source": [
        "import math\n",
        "math.pi"
      ],
      "metadata": {
        "id": "PiGIz4o86SwO",
        "colab": {
          "base_uri": "https://localhost:8080/"
        },
        "outputId": "65a9537a-c2b3-49d5-ffd6-2b71552c3c92"
      },
      "execution_count": null,
      "outputs": [
        {
          "output_type": "execute_result",
          "data": {
            "text/plain": [
              "3.141592653589793"
            ]
          },
          "metadata": {},
          "execution_count": 7
        }
      ]
    },
    {
      "cell_type": "code",
      "source": [
        "class CircleProperties:\n",
        "  def __init__(self,r):\n",
        "    self.r=r\n",
        "  def area(self):\n",
        "    return math.pi*self.r*self.r\n",
        "  def circ(self):\n",
        "    return math.pi*2*self.r\n",
        "\n",
        "object1=CircleProperties(20)\n",
        "object1.area()\n"
      ],
      "metadata": {
        "id": "JSQnrSRA6StT",
        "colab": {
          "base_uri": "https://localhost:8080/"
        },
        "outputId": "8bae9905-fab0-48ec-ec45-7a2b49d69490"
      },
      "execution_count": null,
      "outputs": [
        {
          "output_type": "execute_result",
          "data": {
            "text/plain": [
              "1256.6370614359173"
            ]
          },
          "metadata": {},
          "execution_count": 8
        }
      ]
    },
    {
      "cell_type": "code",
      "source": [
        "objectt1=CircleProperties(20)\n",
        "objectt1.area()"
      ],
      "metadata": {
        "id": "LODNFjGl6SqS",
        "colab": {
          "base_uri": "https://localhost:8080/"
        },
        "outputId": "cbfb9477-a6a3-45b7-8da9-cd9714453ba7"
      },
      "execution_count": null,
      "outputs": [
        {
          "output_type": "execute_result",
          "data": {
            "text/plain": [
              "1256.6370614359173"
            ]
          },
          "metadata": {},
          "execution_count": 7
        }
      ]
    },
    {
      "cell_type": "code",
      "source": [
        "object1=CircleProperties(20)\n",
        "object1.circ()"
      ],
      "metadata": {
        "id": "3YchvwqQ6Sng",
        "colab": {
          "base_uri": "https://localhost:8080/"
        },
        "outputId": "e7e3eca4-1982-4ea8-be67-9859629e4893"
      },
      "execution_count": null,
      "outputs": [
        {
          "output_type": "execute_result",
          "data": {
            "text/plain": [
              "125.66370614359172"
            ]
          },
          "metadata": {},
          "execution_count": 9
        }
      ]
    },
    {
      "cell_type": "code",
      "source": [
        "object1=CircleProperties(20)\n",
        "object1.r"
      ],
      "metadata": {
        "id": "WAieVlHb6SlA",
        "colab": {
          "base_uri": "https://localhost:8080/"
        },
        "outputId": "f37d8930-6011-4795-f4bd-b59864ccc17a"
      },
      "execution_count": null,
      "outputs": [
        {
          "output_type": "execute_result",
          "data": {
            "text/plain": [
              "20"
            ]
          },
          "metadata": {},
          "execution_count": 10
        }
      ]
    },
    {
      "cell_type": "code",
      "source": [
        "class Marks:\n",
        "  def __init__(self,marks,attendance):\n",
        "    self.marks=marks\n",
        "    self.attendance=attendance\n",
        "\n",
        "  def attendance_grade(self):\n",
        "    if self.attendance<75:\n",
        "      return \"fail\"\n",
        "    elif self.attendance<=95:\n",
        "      return \"pass\"\n",
        "\n",
        "\n"
      ],
      "metadata": {
        "id": "_h-PB4SG6SiO"
      },
      "execution_count": null,
      "outputs": []
    },
    {
      "cell_type": "code",
      "source": [
        "object1=Marks(60,78)\n",
        "object1.attendance_grade()"
      ],
      "metadata": {
        "id": "s3RZtLMh6Sfi",
        "colab": {
          "base_uri": "https://localhost:8080/",
          "height": 35
        },
        "outputId": "312d7c2a-92b1-4ef7-d54c-4cd814bd170f"
      },
      "execution_count": null,
      "outputs": [
        {
          "output_type": "execute_result",
          "data": {
            "text/plain": [
              "'pass'"
            ],
            "application/vnd.google.colaboratory.intrinsic+json": {
              "type": "string"
            }
          },
          "metadata": {},
          "execution_count": 12
        }
      ]
    },
    {
      "cell_type": "code",
      "source": [
        "student1=Marks(60,78)\n",
        "student1.marks"
      ],
      "metadata": {
        "id": "-iU20jR56Sc5",
        "colab": {
          "base_uri": "https://localhost:8080/"
        },
        "outputId": "6b7cb4d7-df3e-4062-f414-9c27ceccd129"
      },
      "execution_count": null,
      "outputs": [
        {
          "output_type": "execute_result",
          "data": {
            "text/plain": [
              "60"
            ]
          },
          "metadata": {},
          "execution_count": 14
        }
      ]
    },
    {
      "cell_type": "code",
      "source": [
        "student1=Marks(60,78)\n",
        "student1.attendance"
      ],
      "metadata": {
        "id": "19qdHyib6SaG",
        "colab": {
          "base_uri": "https://localhost:8080/"
        },
        "outputId": "48803d17-523b-45bf-ee64-be09a1084377"
      },
      "execution_count": null,
      "outputs": [
        {
          "output_type": "execute_result",
          "data": {
            "text/plain": [
              "78"
            ]
          },
          "metadata": {},
          "execution_count": 16
        }
      ]
    },
    {
      "cell_type": "code",
      "source": [
        "class Rectangle:\n",
        "    def __init__(self, length, width):\n",
        "        self.length = length\n",
        "        self.width = width\n",
        "\n",
        "    def area(self):\n",
        "        return self.length * self.width\n",
        "\n",
        "    def perimeter(self):\n",
        "        return 2 * (self.length + self.width)\n",
        "\n",
        "    def display(self):\n",
        "        print(f\"{self.width} x {self.length}\")\n"
      ],
      "metadata": {
        "id": "wupYx_qI6SXg"
      },
      "execution_count": null,
      "outputs": []
    },
    {
      "cell_type": "code",
      "source": [
        "object1=Rectangle(50,70)\n",
        "object1.area()"
      ],
      "metadata": {
        "id": "RJzHS9kx6SU5",
        "colab": {
          "base_uri": "https://localhost:8080/"
        },
        "outputId": "1c0ef5e4-c17c-4880-cce1-3fcc99c5254f"
      },
      "execution_count": null,
      "outputs": [
        {
          "output_type": "execute_result",
          "data": {
            "text/plain": [
              "3500"
            ]
          },
          "metadata": {},
          "execution_count": 20
        }
      ]
    },
    {
      "cell_type": "code",
      "source": [
        "object1=Rectangle(50,70)\n",
        "object1.perimeter()"
      ],
      "metadata": {
        "id": "ja8nIJjY6SSG",
        "colab": {
          "base_uri": "https://localhost:8080/"
        },
        "outputId": "4db66fe1-0b8e-479f-abc8-ff68ba25dcc0"
      },
      "execution_count": null,
      "outputs": [
        {
          "output_type": "execute_result",
          "data": {
            "text/plain": [
              "240"
            ]
          },
          "metadata": {},
          "execution_count": 23
        }
      ]
    },
    {
      "cell_type": "code",
      "source": [
        "class Circle:\n",
        "    def __init__(self, _r_______):\n",
        "        self.radius = __r______\n",
        "\n",
        "    def area(self):\n",
        "        return 3.14 * _r_______ ** 2\n",
        "\n",
        "    def circumference(self):\n",
        "        return 2 * 3.14 * self.__r______\n",
        "\n",
        "    def display(self):\n",
        "        print(\"Radius:\", self._r_______)\n"
      ],
      "metadata": {
        "id": "kSoCXHen6SNf"
      },
      "execution_count": null,
      "outputs": []
    },
    {
      "cell_type": "code",
      "source": [
        "object1=CircleProperties(60)\n",
        "object1.area()"
      ],
      "metadata": {
        "id": "jlMxIafT6SKD",
        "colab": {
          "base_uri": "https://localhost:8080/"
        },
        "outputId": "97543608-386c-43af-a07e-c19c71559f69"
      },
      "execution_count": null,
      "outputs": [
        {
          "output_type": "execute_result",
          "data": {
            "text/plain": [
              "11309.733552923255"
            ]
          },
          "metadata": {},
          "execution_count": 24
        }
      ]
    },
    {
      "cell_type": "code",
      "source": [
        "object1=CircleProperties(60)\n",
        "object1.circ()"
      ],
      "metadata": {
        "colab": {
          "base_uri": "https://localhost:8080/"
        },
        "id": "G3r3TSAAlV9u",
        "outputId": "34af6add-4704-4426-f84f-904b2300e626"
      },
      "execution_count": null,
      "outputs": [
        {
          "output_type": "execute_result",
          "data": {
            "text/plain": [
              "376.99111843077515"
            ]
          },
          "metadata": {},
          "execution_count": 28
        }
      ]
    },
    {
      "cell_type": "code",
      "source": [
        "object1=CircleProperties(60)\n",
        "object1.r"
      ],
      "metadata": {
        "id": "SNN9qf3D6SHg",
        "colab": {
          "base_uri": "https://localhost:8080/"
        },
        "outputId": "7a7af538-497a-49d1-a124-5e24a4a7e6fb"
      },
      "execution_count": null,
      "outputs": [
        {
          "output_type": "execute_result",
          "data": {
            "text/plain": [
              "60"
            ]
          },
          "metadata": {},
          "execution_count": 25
        }
      ]
    },
    {
      "cell_type": "code",
      "source": [
        "class Student:\n",
        "    def __init__(self, name, marks,rank):\n",
        "        self.name = name\n",
        "        self.marks =marks\n",
        "        self.rank = rank # Added this line\n",
        "\n",
        "    def get_average(self):\n",
        "        return sum(self.marks) / len(self.marks)\n",
        "\n",
        "    def display(self):\n",
        "        print(f\"Name: {self.name}, Marks: {self.marks}\")"
      ],
      "metadata": {
        "id": "2YTTAijd6SE5"
      },
      "execution_count": null,
      "outputs": []
    },
    {
      "cell_type": "code",
      "source": [
        "student1=Student(\"dheeru\",[50,78,93], 1) # Added rank argument\n",
        "student1.display()\n",
        "print(student1.get_average())"
      ],
      "metadata": {
        "id": "4w1ySdUk6SCP",
        "colab": {
          "base_uri": "https://localhost:8080/"
        },
        "outputId": "0f64d446-b21e-439e-e1b0-678ffe52f055"
      },
      "execution_count": null,
      "outputs": [
        {
          "output_type": "stream",
          "name": "stdout",
          "text": [
            "Name: dheeru, Marks: [50, 78, 93]\n",
            "73.66666666666667\n"
          ]
        }
      ]
    },
    {
      "cell_type": "code",
      "source": [
        "class Bike:\n",
        "    def __init__(self, brand, speed):\n",
        "        self.brand = brand\n",
        "        self.speed = speed\n",
        "\n",
        "    def accelerate(self):\n",
        "        self.speed += 90\n",
        "\n",
        "    def display(self):\n",
        "        print(f\"{self.brand} speed: {self.speed} km/h\")\n",
        "\n"
      ],
      "metadata": {
        "id": "9eGxwu8orneh"
      },
      "execution_count": null,
      "outputs": []
    },
    {
      "cell_type": "code",
      "source": [
        "car1=Bike(\"Bukatti\",70)\n",
        "car1.accelerate()\n",
        "car1.display()"
      ],
      "metadata": {
        "colab": {
          "base_uri": "https://localhost:8080/"
        },
        "id": "GVJjAWiatHN9",
        "outputId": "174cd8e7-ec9b-496c-d299-f1becac4a4fd"
      },
      "execution_count": null,
      "outputs": [
        {
          "output_type": "stream",
          "name": "stdout",
          "text": [
            "Bukatti speed: 160 km/h\n"
          ]
        }
      ]
    },
    {
      "cell_type": "code",
      "source": [
        "class Book:\n",
        "    def __init__(self, title, writter):\n",
        "        self.title = title\n",
        "        self.writter = writter\n",
        "\n",
        "    def display(self):\n",
        "        print(f\"{self.title} by {self.writter}\")\n",
        "\n",
        "    def get_writter(self):\n",
        "        return self.writter"
      ],
      "metadata": {
        "id": "qWIw1i98tHJL"
      },
      "execution_count": null,
      "outputs": []
    },
    {
      "cell_type": "code",
      "source": [
        "book1=Book(\"fiction\",'jagadesh')\n",
        "book1.get_writter()\n",
        "book1.display()"
      ],
      "metadata": {
        "colab": {
          "base_uri": "https://localhost:8080/"
        },
        "id": "Ui1Ta9b4tHGD",
        "outputId": "6eb119fd-ac83-40f5-c472-1ca76a4ddfbc"
      },
      "execution_count": null,
      "outputs": [
        {
          "output_type": "stream",
          "name": "stdout",
          "text": [
            "fiction by jagadesh\n"
          ]
        }
      ]
    },
    {
      "cell_type": "code",
      "source": [
        "class Temperature:\n",
        "  def __init__(self,celcius):\n",
        "    self.celcius=celcius\n",
        "  def to_fahrenheit(self):\n",
        "    return (self.celcius *9/5)+50\n",
        "  def display(self):\n",
        "    print(\"f{self.celcius} C\")\n"
      ],
      "metadata": {
        "id": "YWc8zCVgtHBE"
      },
      "execution_count": null,
      "outputs": []
    },
    {
      "cell_type": "code",
      "source": [
        "class1=Temperature(50)\n",
        "print(class1.to_fahrenheit())\n",
        "class1.display()"
      ],
      "metadata": {
        "colab": {
          "base_uri": "https://localhost:8080/"
        },
        "id": "_041snA7tG-u",
        "outputId": "1f0ea373-9b99-4f0b-809b-faa81b29e07e"
      },
      "execution_count": null,
      "outputs": [
        {
          "output_type": "stream",
          "name": "stdout",
          "text": [
            "140.0\n",
            "f{self.celcius} C\n"
          ]
        }
      ]
    },
    {
      "cell_type": "code",
      "source": [],
      "metadata": {
        "id": "CpBDLXQTtG8Q"
      },
      "execution_count": null,
      "outputs": []
    },
    {
      "cell_type": "code",
      "source": [],
      "metadata": {
        "id": "2qfmnxroCjMH"
      },
      "execution_count": null,
      "outputs": []
    },
    {
      "cell_type": "code",
      "source": [],
      "metadata": {
        "id": "kf2MicTtCjIv"
      },
      "execution_count": null,
      "outputs": []
    }
  ]
}