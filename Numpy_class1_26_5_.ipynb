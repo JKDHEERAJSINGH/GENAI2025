{
  "nbformat": 4,
  "nbformat_minor": 0,
  "metadata": {
    "colab": {
      "provenance": [],
      "authorship_tag": "ABX9TyM4tBiH1eV4PhqvW/emb+S6",
      "include_colab_link": true
    },
    "kernelspec": {
      "name": "python3",
      "display_name": "Python 3"
    },
    "language_info": {
      "name": "python"
    }
  },
  "cells": [
    {
      "cell_type": "markdown",
      "metadata": {
        "id": "view-in-github",
        "colab_type": "text"
      },
      "source": [
        "<a href=\"https://colab.research.google.com/github/JKDHEERAJSINGH/GENAI2025/blob/main/Numpy_class1_26_5_.ipynb\" target=\"_parent\"><img src=\"https://colab.research.google.com/assets/colab-badge.svg\" alt=\"Open In Colab\"/></a>"
      ]
    },
    {
      "cell_type": "code",
      "source": [
        "import numpy as np"
      ],
      "metadata": {
        "id": "Wdvwd1uiQc2g"
      },
      "execution_count": null,
      "outputs": []
    },
    {
      "cell_type": "code",
      "source": [
        "list(),str(),tuple(),set(),dict()"
      ],
      "metadata": {
        "colab": {
          "base_uri": "https://localhost:8080/"
        },
        "id": "h3DsZ6EcLW1i",
        "outputId": "26fbe81f-8f8a-4d9f-8452-10866b8401d3"
      },
      "execution_count": null,
      "outputs": [
        {
          "output_type": "execute_result",
          "data": {
            "text/plain": [
              "([], '', (), set(), {})"
            ]
          },
          "metadata": {},
          "execution_count": 2
        }
      ]
    },
    {
      "cell_type": "code",
      "source": [
        "y=np.array([1,2,3,4,5])"
      ],
      "metadata": {
        "id": "Gm9RCWWlLW4g"
      },
      "execution_count": null,
      "outputs": []
    },
    {
      "cell_type": "code",
      "source": [
        "y"
      ],
      "metadata": {
        "colab": {
          "base_uri": "https://localhost:8080/"
        },
        "id": "5Rv_8G-DLW7Q",
        "outputId": "d78cbb6c-75f9-4c97-becc-c1d1e612d530"
      },
      "execution_count": null,
      "outputs": [
        {
          "output_type": "execute_result",
          "data": {
            "text/plain": [
              "array([1, 2, 3, 4, 5])"
            ]
          },
          "metadata": {},
          "execution_count": 4
        }
      ]
    },
    {
      "cell_type": "code",
      "source": [
        "x=(14.8)"
      ],
      "metadata": {
        "id": "fO89OuxTLXDX"
      },
      "execution_count": null,
      "outputs": []
    },
    {
      "cell_type": "code",
      "source": [
        "type(x),type(y)"
      ],
      "metadata": {
        "colab": {
          "base_uri": "https://localhost:8080/"
        },
        "id": "CUuaPfSELXF2",
        "outputId": "8ffbc2f6-15fc-4f12-8f69-5b936e7dd751"
      },
      "execution_count": null,
      "outputs": [
        {
          "output_type": "execute_result",
          "data": {
            "text/plain": [
              "(float, numpy.ndarray)"
            ]
          },
          "metadata": {},
          "execution_count": 6
        }
      ]
    },
    {
      "cell_type": "code",
      "source": [
        "x/2"
      ],
      "metadata": {
        "colab": {
          "base_uri": "https://localhost:8080/"
        },
        "id": "pmCcCyu9LXIU",
        "outputId": "05d6f13a-6851-4a07-e92c-8bd31ce2fff9"
      },
      "execution_count": null,
      "outputs": [
        {
          "output_type": "execute_result",
          "data": {
            "text/plain": [
              "7.4"
            ]
          },
          "metadata": {},
          "execution_count": 7
        }
      ]
    },
    {
      "cell_type": "code",
      "source": [
        "y/2"
      ],
      "metadata": {
        "colab": {
          "base_uri": "https://localhost:8080/"
        },
        "id": "O748gJzxLXK5",
        "outputId": "f0ccee52-129c-49f8-8a7b-d8ae69c1bff3"
      },
      "execution_count": null,
      "outputs": [
        {
          "output_type": "execute_result",
          "data": {
            "text/plain": [
              "array([0.5, 1. , 1.5, 2. , 2.5])"
            ]
          },
          "metadata": {},
          "execution_count": 8
        }
      ]
    },
    {
      "cell_type": "code",
      "source": [
        "x=[1,2,3,\"data science\"]"
      ],
      "metadata": {
        "id": "8WF_tpQ_LXOY"
      },
      "execution_count": null,
      "outputs": []
    },
    {
      "cell_type": "code",
      "source": [
        "x"
      ],
      "metadata": {
        "colab": {
          "base_uri": "https://localhost:8080/"
        },
        "id": "89aRRTq4QRyK",
        "outputId": "9965cf6b-1ef8-48f6-dd89-469e012036fc"
      },
      "execution_count": null,
      "outputs": [
        {
          "output_type": "execute_result",
          "data": {
            "text/plain": [
              "[1, 2, 3, 'data science']"
            ]
          },
          "metadata": {},
          "execution_count": 10
        }
      ]
    },
    {
      "cell_type": "code",
      "source": [
        "a=[34444,66666,99]"
      ],
      "metadata": {
        "id": "3KPbos5kQRui"
      },
      "execution_count": null,
      "outputs": []
    },
    {
      "cell_type": "code",
      "source": [
        "type(a)"
      ],
      "metadata": {
        "colab": {
          "base_uri": "https://localhost:8080/"
        },
        "id": "rfrr7tvtQRr4",
        "outputId": "ca1a3b07-2c3d-4b80-e3f3-4963c95afbca"
      },
      "execution_count": null,
      "outputs": [
        {
          "output_type": "execute_result",
          "data": {
            "text/plain": [
              "list"
            ]
          },
          "metadata": {},
          "execution_count": 12
        }
      ]
    },
    {
      "cell_type": "code",
      "source": [
        "a[0]"
      ],
      "metadata": {
        "colab": {
          "base_uri": "https://localhost:8080/"
        },
        "id": "4w6uQuEZQRpo",
        "outputId": "709ecba5-3680-4f26-b85d-04430c31ef11"
      },
      "execution_count": null,
      "outputs": [
        {
          "output_type": "execute_result",
          "data": {
            "text/plain": [
              "34444"
            ]
          },
          "metadata": {},
          "execution_count": 13
        }
      ]
    },
    {
      "cell_type": "code",
      "source": [
        "a[2]"
      ],
      "metadata": {
        "colab": {
          "base_uri": "https://localhost:8080/"
        },
        "id": "t2RmBXAzQRm_",
        "outputId": "2aa129c5-cc37-457b-ced9-0add43bb69e0"
      },
      "execution_count": null,
      "outputs": [
        {
          "output_type": "execute_result",
          "data": {
            "text/plain": [
              "99"
            ]
          },
          "metadata": {},
          "execution_count": 14
        }
      ]
    },
    {
      "cell_type": "code",
      "source": [
        "type(x[3]),type(x[0]),type(x[2])"
      ],
      "metadata": {
        "colab": {
          "base_uri": "https://localhost:8080/"
        },
        "id": "QKzuQj3jSnIa",
        "outputId": "7669d8e0-a4ba-4f6f-a41e-1c94b9745fe4"
      },
      "execution_count": null,
      "outputs": [
        {
          "output_type": "execute_result",
          "data": {
            "text/plain": [
              "(str, int, int)"
            ]
          },
          "metadata": {},
          "execution_count": 15
        }
      ]
    },
    {
      "cell_type": "code",
      "source": [
        "y=np.array([1,2,3,4,5,6])"
      ],
      "metadata": {
        "id": "PI5bbkE_SnFB"
      },
      "execution_count": null,
      "outputs": []
    },
    {
      "cell_type": "code",
      "source": [
        "y"
      ],
      "metadata": {
        "colab": {
          "base_uri": "https://localhost:8080/"
        },
        "id": "9dvxpWnqSnCM",
        "outputId": "84cab17a-9bd6-4a03-d46d-14cbd96c6dac"
      },
      "execution_count": null,
      "outputs": [
        {
          "output_type": "execute_result",
          "data": {
            "text/plain": [
              "array([1, 2, 3, 4, 5, 6])"
            ]
          },
          "metadata": {},
          "execution_count": 17
        }
      ]
    },
    {
      "cell_type": "code",
      "source": [
        "dheeraj=\"data science\"\n",
        "dheeraj_r=24\n",
        "dheeraj_c=\"mca\""
      ],
      "metadata": {
        "id": "vMsirtpVSm_f"
      },
      "execution_count": null,
      "outputs": []
    },
    {
      "cell_type": "code",
      "source": [
        "dheeraj"
      ],
      "metadata": {
        "colab": {
          "base_uri": "https://localhost:8080/",
          "height": 36
        },
        "id": "BOXLdBzbSm8y",
        "outputId": "a51e44f5-8863-4f42-c4e4-0e7ef6a84eae"
      },
      "execution_count": null,
      "outputs": [
        {
          "output_type": "execute_result",
          "data": {
            "text/plain": [
              "'data science'"
            ],
            "application/vnd.google.colaboratory.intrinsic+json": {
              "type": "string"
            }
          },
          "metadata": {},
          "execution_count": 19
        }
      ]
    },
    {
      "cell_type": "code",
      "source": [
        "dheeraj_r"
      ],
      "metadata": {
        "colab": {
          "base_uri": "https://localhost:8080/"
        },
        "id": "IXacOl-5Sm5W",
        "outputId": "92a76ea3-2f95-41df-a47d-fa8bfd347370"
      },
      "execution_count": null,
      "outputs": [
        {
          "output_type": "execute_result",
          "data": {
            "text/plain": [
              "24"
            ]
          },
          "metadata": {},
          "execution_count": 20
        }
      ]
    },
    {
      "cell_type": "code",
      "source": [
        "(y[0]),type(y[1]),type(y[2]),type(y[3])"
      ],
      "metadata": {
        "colab": {
          "base_uri": "https://localhost:8080/"
        },
        "id": "bXjbLGOLSm25",
        "outputId": "db6aca1f-5e9f-4d98-e38b-bf826fb8b686"
      },
      "execution_count": null,
      "outputs": [
        {
          "output_type": "execute_result",
          "data": {
            "text/plain": [
              "(np.int64(1), numpy.int64, numpy.int64, numpy.int64)"
            ]
          },
          "metadata": {},
          "execution_count": 21
        }
      ]
    },
    {
      "cell_type": "code",
      "source": [
        "y=np.array([1,2,3,4,5,6,\"data\"])"
      ],
      "metadata": {
        "id": "iZ5MlSlBQRhk"
      },
      "execution_count": null,
      "outputs": []
    },
    {
      "cell_type": "code",
      "source": [
        "y[4],type(y[1]),type(y[2]),type(y[3])"
      ],
      "metadata": {
        "colab": {
          "base_uri": "https://localhost:8080/"
        },
        "id": "FnfVObOdQRbQ",
        "outputId": "57526ebb-57cb-4f4f-9781-0dea784e6117"
      },
      "execution_count": null,
      "outputs": [
        {
          "output_type": "execute_result",
          "data": {
            "text/plain": [
              "(np.str_('5'), numpy.str_, numpy.str_, numpy.str_)"
            ]
          },
          "metadata": {},
          "execution_count": 23
        }
      ]
    },
    {
      "cell_type": "code",
      "source": [
        "y=(3,7,8)"
      ],
      "metadata": {
        "id": "-WFWpOd8QRYb"
      },
      "execution_count": null,
      "outputs": []
    },
    {
      "cell_type": "code",
      "source": [
        "y[0]"
      ],
      "metadata": {
        "colab": {
          "base_uri": "https://localhost:8080/"
        },
        "id": "lW2pkPJwaG9l",
        "outputId": "bd49a143-264e-4747-fd5a-1e659ec88af8"
      },
      "execution_count": null,
      "outputs": [
        {
          "output_type": "execute_result",
          "data": {
            "text/plain": [
              "3"
            ]
          },
          "metadata": {},
          "execution_count": 25
        }
      ]
    },
    {
      "cell_type": "code",
      "source": [
        "for r in range(1,10):\n",
        "  print(np.random.randint(0,10))"
      ],
      "metadata": {
        "colab": {
          "base_uri": "https://localhost:8080/"
        },
        "id": "n8spDwxbcdhJ",
        "outputId": "bf33ac5f-dff3-43a7-fb9b-60d1ad4f1716"
      },
      "execution_count": null,
      "outputs": [
        {
          "output_type": "stream",
          "name": "stdout",
          "text": [
            "5\n",
            "9\n",
            "4\n",
            "2\n",
            "4\n",
            "1\n",
            "4\n",
            "1\n",
            "0\n"
          ]
        }
      ]
    },
    {
      "cell_type": "code",
      "source": [
        "y[2]"
      ],
      "metadata": {
        "colab": {
          "base_uri": "https://localhost:8080/"
        },
        "id": "RRTxXt8CaIFz",
        "outputId": "36c307b4-7aa1-482d-9d51-c794870c0e79"
      },
      "execution_count": null,
      "outputs": [
        {
          "output_type": "execute_result",
          "data": {
            "text/plain": [
              "8"
            ]
          },
          "metadata": {},
          "execution_count": 27
        }
      ]
    },
    {
      "cell_type": "code",
      "source": [
        "import numpy as np"
      ],
      "metadata": {
        "id": "4DLR-lOmiNbG"
      },
      "execution_count": null,
      "outputs": []
    },
    {
      "cell_type": "code",
      "source": [
        "for r in range(0,10):\n",
        "  print(np.random.randint(0,100))"
      ],
      "metadata": {
        "colab": {
          "base_uri": "https://localhost:8080/"
        },
        "id": "KWLBMV_0cdme",
        "outputId": "1705b07b-a586-42cf-8a17-e4fdf7756b4c"
      },
      "execution_count": null,
      "outputs": [
        {
          "output_type": "stream",
          "name": "stdout",
          "text": [
            "65\n",
            "74\n",
            "5\n",
            "77\n",
            "33\n",
            "42\n",
            "54\n",
            "36\n",
            "12\n",
            "38\n"
          ]
        }
      ]
    },
    {
      "cell_type": "code",
      "source": [
        "np.random.randint(1,100,(5,5))"
      ],
      "metadata": {
        "colab": {
          "base_uri": "https://localhost:8080/"
        },
        "id": "lVo1wsMucdrF",
        "outputId": "560850da-a912-4af4-e084-5c46034d1275"
      },
      "execution_count": null,
      "outputs": [
        {
          "output_type": "execute_result",
          "data": {
            "text/plain": [
              "array([[94, 95, 62, 30, 89],\n",
              "       [68,  2, 91, 94, 11],\n",
              "       [38, 96, 43, 77, 34],\n",
              "       [21, 69, 56, 37, 45],\n",
              "       [49, 27,  4,  6, 26]])"
            ]
          },
          "metadata": {},
          "execution_count": 30
        }
      ]
    },
    {
      "cell_type": "code",
      "source": [
        "data=np.random.randint(1,100,(3,3))"
      ],
      "metadata": {
        "id": "QZKtYLLZcdwp"
      },
      "execution_count": null,
      "outputs": []
    },
    {
      "cell_type": "code",
      "source": [
        "data"
      ],
      "metadata": {
        "colab": {
          "base_uri": "https://localhost:8080/"
        },
        "id": "dk1xZ3AKcd1_",
        "outputId": "374b1eea-757b-4675-d3bd-ef609fac47cd"
      },
      "execution_count": null,
      "outputs": [
        {
          "output_type": "execute_result",
          "data": {
            "text/plain": [
              "array([[68, 99, 22],\n",
              "       [58, 24, 26],\n",
              "       [92, 14, 34]])"
            ]
          },
          "metadata": {},
          "execution_count": 32
        }
      ]
    },
    {
      "cell_type": "code",
      "source": [],
      "metadata": {
        "id": "hJTYwBs9cd5H"
      },
      "execution_count": null,
      "outputs": []
    },
    {
      "cell_type": "code",
      "source": [
        "data[1,1]      #r ,c"
      ],
      "metadata": {
        "colab": {
          "base_uri": "https://localhost:8080/"
        },
        "id": "Z_GmCoA0cd-n",
        "outputId": "82436ac9-c9de-4cf6-ba37-9cba56dc32a1"
      },
      "execution_count": null,
      "outputs": [
        {
          "output_type": "execute_result",
          "data": {
            "text/plain": [
              "np.int64(24)"
            ]
          },
          "metadata": {},
          "execution_count": 33
        }
      ]
    },
    {
      "cell_type": "code",
      "source": [
        "data[0,2]"
      ],
      "metadata": {
        "colab": {
          "base_uri": "https://localhost:8080/"
        },
        "id": "BwJ66tEfceDr",
        "outputId": "03975544-0128-476a-c464-086b63c2a144"
      },
      "execution_count": null,
      "outputs": [
        {
          "output_type": "execute_result",
          "data": {
            "text/plain": [
              "np.int64(22)"
            ]
          },
          "metadata": {},
          "execution_count": 34
        }
      ]
    },
    {
      "cell_type": "code",
      "source": [
        "data[0,1]"
      ],
      "metadata": {
        "colab": {
          "base_uri": "https://localhost:8080/"
        },
        "id": "8xlUEid0ceIg",
        "outputId": "23d9a6e8-17dc-4735-cd8a-50dba835fa02"
      },
      "execution_count": null,
      "outputs": [
        {
          "output_type": "execute_result",
          "data": {
            "text/plain": [
              "np.int64(99)"
            ]
          },
          "metadata": {},
          "execution_count": 35
        }
      ]
    },
    {
      "cell_type": "code",
      "source": [
        "data[1,2]"
      ],
      "metadata": {
        "colab": {
          "base_uri": "https://localhost:8080/"
        },
        "id": "nSBV39ZLceK5",
        "outputId": "2f6d4600-2e91-40ae-de15-ba09ae3b6720"
      },
      "execution_count": null,
      "outputs": [
        {
          "output_type": "execute_result",
          "data": {
            "text/plain": [
              "np.int64(26)"
            ]
          },
          "metadata": {},
          "execution_count": 36
        }
      ]
    },
    {
      "cell_type": "code",
      "source": [
        "data[0,0:2]"
      ],
      "metadata": {
        "colab": {
          "base_uri": "https://localhost:8080/"
        },
        "id": "vocfwmmgceNS",
        "outputId": "2d067533-5692-4790-bc16-0f00eb31507f"
      },
      "execution_count": null,
      "outputs": [
        {
          "output_type": "execute_result",
          "data": {
            "text/plain": [
              "array([68, 99])"
            ]
          },
          "metadata": {},
          "execution_count": 37
        }
      ]
    },
    {
      "cell_type": "code",
      "source": [
        "data=np.random.randint(0,20,(5,5))"
      ],
      "metadata": {
        "id": "KjzR1tbTqyqW"
      },
      "execution_count": null,
      "outputs": []
    },
    {
      "cell_type": "code",
      "source": [
        "data"
      ],
      "metadata": {
        "colab": {
          "base_uri": "https://localhost:8080/"
        },
        "id": "qPkU4-aesxHo",
        "outputId": "bc542923-21a5-4c06-bf7a-e5ef626674b7"
      },
      "execution_count": null,
      "outputs": [
        {
          "output_type": "execute_result",
          "data": {
            "text/plain": [
              "array([[ 2, 19, 19,  9, 15],\n",
              "       [11, 13,  4, 15,  5],\n",
              "       [ 1,  1, 10, 17,  1],\n",
              "       [ 6,  9,  8,  0,  8],\n",
              "       [ 1,  0,  2,  3, 17]])"
            ]
          },
          "metadata": {},
          "execution_count": 39
        }
      ]
    },
    {
      "cell_type": "code",
      "source": [
        "data[0:3]"
      ],
      "metadata": {
        "colab": {
          "base_uri": "https://localhost:8080/"
        },
        "id": "RNpJEZKZtBot",
        "outputId": "69fd1f15-a6d2-4e61-caf7-9496edd185ef"
      },
      "execution_count": null,
      "outputs": [
        {
          "output_type": "execute_result",
          "data": {
            "text/plain": [
              "array([[ 2, 19, 19,  9, 15],\n",
              "       [11, 13,  4, 15,  5],\n",
              "       [ 1,  1, 10, 17,  1]])"
            ]
          },
          "metadata": {},
          "execution_count": 40
        }
      ]
    },
    {
      "cell_type": "code",
      "source": [
        "data[0,1]"
      ],
      "metadata": {
        "colab": {
          "base_uri": "https://localhost:8080/"
        },
        "id": "oGacL5NotBlX",
        "outputId": "037ecd19-c962-494b-a82d-7ebd88c9f3bd"
      },
      "execution_count": null,
      "outputs": [
        {
          "output_type": "execute_result",
          "data": {
            "text/plain": [
              "np.int64(19)"
            ]
          },
          "metadata": {},
          "execution_count": 41
        }
      ]
    },
    {
      "cell_type": "code",
      "source": [
        "data[0:3,4:5]"
      ],
      "metadata": {
        "colab": {
          "base_uri": "https://localhost:8080/"
        },
        "id": "mnMNMW6TtBi-",
        "outputId": "9f435537-f2ed-41c2-9f95-3780481e65ac"
      },
      "execution_count": null,
      "outputs": [
        {
          "output_type": "execute_result",
          "data": {
            "text/plain": [
              "array([[15],\n",
              "       [ 5],\n",
              "       [ 1]])"
            ]
          },
          "metadata": {},
          "execution_count": 42
        }
      ]
    },
    {
      "cell_type": "code",
      "source": [
        "data[0:4,1:5]"
      ],
      "metadata": {
        "id": "rqxCHAQ4tBgn",
        "colab": {
          "base_uri": "https://localhost:8080/"
        },
        "outputId": "3145a8b9-4d8c-4e0a-84b6-5ea048d8503d"
      },
      "execution_count": null,
      "outputs": [
        {
          "output_type": "execute_result",
          "data": {
            "text/plain": [
              "array([[19, 19,  9, 15],\n",
              "       [13,  4, 15,  5],\n",
              "       [ 1, 10, 17,  1],\n",
              "       [ 9,  8,  0,  8]])"
            ]
          },
          "metadata": {},
          "execution_count": 43
        }
      ]
    },
    {
      "cell_type": "code",
      "source": [
        "data[-4:-3,-2:-1]"
      ],
      "metadata": {
        "id": "xfeHzSvgtBeF",
        "colab": {
          "base_uri": "https://localhost:8080/"
        },
        "outputId": "a296170b-9a86-4318-a202-310bf35c8fe9"
      },
      "execution_count": null,
      "outputs": [
        {
          "output_type": "execute_result",
          "data": {
            "text/plain": [
              "array([[15]])"
            ]
          },
          "metadata": {},
          "execution_count": 44
        }
      ]
    },
    {
      "cell_type": "code",
      "source": [
        "data[-4:-2,-3:-2]"
      ],
      "metadata": {
        "id": "TGE9yn7EtBby",
        "colab": {
          "base_uri": "https://localhost:8080/"
        },
        "outputId": "77998318-a3bb-4eb3-c1cc-ac19bf10e597"
      },
      "execution_count": null,
      "outputs": [
        {
          "output_type": "execute_result",
          "data": {
            "text/plain": [
              "array([[ 4],\n",
              "       [10]])"
            ]
          },
          "metadata": {},
          "execution_count": 45
        }
      ]
    },
    {
      "cell_type": "code",
      "source": [
        "data[0,:]"
      ],
      "metadata": {
        "id": "iHq4IEqPtBZU",
        "colab": {
          "base_uri": "https://localhost:8080/"
        },
        "outputId": "3af34fb1-e878-4e5c-bb24-27523f5ccadb"
      },
      "execution_count": null,
      "outputs": [
        {
          "output_type": "execute_result",
          "data": {
            "text/plain": [
              "array([ 2, 19, 19,  9, 15])"
            ]
          },
          "metadata": {},
          "execution_count": 46
        }
      ]
    },
    {
      "cell_type": "code",
      "source": [
        "data[:,0]"
      ],
      "metadata": {
        "id": "ZdmSGOqntBWu",
        "colab": {
          "base_uri": "https://localhost:8080/"
        },
        "outputId": "3fa5a602-0b5c-454f-8020-67f1c1eb5e5a"
      },
      "execution_count": null,
      "outputs": [
        {
          "output_type": "execute_result",
          "data": {
            "text/plain": [
              "array([ 2, 11,  1,  6,  1])"
            ]
          },
          "metadata": {},
          "execution_count": 47
        }
      ]
    },
    {
      "cell_type": "code",
      "source": [
        "data.shape"
      ],
      "metadata": {
        "id": "0wLM8OEPtBUf",
        "colab": {
          "base_uri": "https://localhost:8080/"
        },
        "outputId": "7d666167-2b46-4f6d-d3c5-cf494616db0f"
      },
      "execution_count": null,
      "outputs": [
        {
          "output_type": "execute_result",
          "data": {
            "text/plain": [
              "(5, 5)"
            ]
          },
          "metadata": {},
          "execution_count": 48
        }
      ]
    },
    {
      "cell_type": "code",
      "source": [
        "data.size"
      ],
      "metadata": {
        "id": "16b7xXfrs93Y",
        "colab": {
          "base_uri": "https://localhost:8080/"
        },
        "outputId": "d4de8937-ac64-4fa2-fded-68751a04588a"
      },
      "execution_count": null,
      "outputs": [
        {
          "output_type": "execute_result",
          "data": {
            "text/plain": [
              "25"
            ]
          },
          "metadata": {},
          "execution_count": 49
        }
      ]
    },
    {
      "cell_type": "code",
      "source": [
        "data.T"
      ],
      "metadata": {
        "colab": {
          "base_uri": "https://localhost:8080/"
        },
        "id": "3sDQWn9V8QUZ",
        "outputId": "3dedef37-06ef-41f7-cd81-a674ef142f0c"
      },
      "execution_count": null,
      "outputs": [
        {
          "output_type": "execute_result",
          "data": {
            "text/plain": [
              "array([[ 2, 11,  1,  6,  1],\n",
              "       [19, 13,  1,  9,  0],\n",
              "       [19,  4, 10,  8,  2],\n",
              "       [ 9, 15, 17,  0,  3],\n",
              "       [15,  5,  1,  8, 17]])"
            ]
          },
          "metadata": {},
          "execution_count": 50
        }
      ]
    },
    {
      "cell_type": "code",
      "source": [
        "data"
      ],
      "metadata": {
        "colab": {
          "base_uri": "https://localhost:8080/"
        },
        "id": "n1ApxeON8TGo",
        "outputId": "708c6e1a-b379-44f5-e7e0-a7e7d81ec89d"
      },
      "execution_count": null,
      "outputs": [
        {
          "output_type": "execute_result",
          "data": {
            "text/plain": [
              "array([[ 2, 19, 19,  9, 15],\n",
              "       [11, 13,  4, 15,  5],\n",
              "       [ 1,  1, 10, 17,  1],\n",
              "       [ 6,  9,  8,  0,  8],\n",
              "       [ 1,  0,  2,  3, 17]])"
            ]
          },
          "metadata": {},
          "execution_count": 51
        }
      ]
    },
    {
      "cell_type": "code",
      "source": [
        " x=2"
      ],
      "metadata": {
        "id": "QU7V3yW48ZJ-"
      },
      "execution_count": null,
      "outputs": []
    },
    {
      "cell_type": "code",
      "source": [
        "data*2"
      ],
      "metadata": {
        "colab": {
          "base_uri": "https://localhost:8080/"
        },
        "id": "Ro4Qx5g28kuU",
        "outputId": "38e6c4de-c97c-4197-e182-89300d4e761a"
      },
      "execution_count": null,
      "outputs": [
        {
          "output_type": "execute_result",
          "data": {
            "text/plain": [
              "array([[ 4, 38, 38, 18, 30],\n",
              "       [22, 26,  8, 30, 10],\n",
              "       [ 2,  2, 20, 34,  2],\n",
              "       [12, 18, 16,  0, 16],\n",
              "       [ 2,  0,  4,  6, 34]])"
            ]
          },
          "metadata": {},
          "execution_count": 53
        }
      ]
    },
    {
      "cell_type": "code",
      "source": [
        "data**2"
      ],
      "metadata": {
        "colab": {
          "base_uri": "https://localhost:8080/"
        },
        "id": "8dddXOhW8mkC",
        "outputId": "ae2188e3-da64-4a1b-85f1-6b2a0f97d7fe"
      },
      "execution_count": null,
      "outputs": [
        {
          "output_type": "execute_result",
          "data": {
            "text/plain": [
              "array([[  4, 361, 361,  81, 225],\n",
              "       [121, 169,  16, 225,  25],\n",
              "       [  1,   1, 100, 289,   1],\n",
              "       [ 36,  81,  64,   0,  64],\n",
              "       [  1,   0,   4,   9, 289]])"
            ]
          },
          "metadata": {},
          "execution_count": 54
        }
      ]
    },
    {
      "cell_type": "code",
      "source": [
        "x=np.random.randint(0,10,(3,3))\n",
        "y=np.random.randint(0,10,(3,3))"
      ],
      "metadata": {
        "id": "GLR7RxzS8mgj"
      },
      "execution_count": null,
      "outputs": []
    },
    {
      "cell_type": "code",
      "source": [
        "x"
      ],
      "metadata": {
        "colab": {
          "base_uri": "https://localhost:8080/"
        },
        "id": "pyzE04Eq8mdy",
        "outputId": "b491f1c3-2b94-4a39-aa71-eaf3dd494c4a"
      },
      "execution_count": null,
      "outputs": [
        {
          "output_type": "execute_result",
          "data": {
            "text/plain": [
              "array([[6, 4, 5],\n",
              "       [2, 0, 2],\n",
              "       [2, 5, 0]])"
            ]
          },
          "metadata": {},
          "execution_count": 56
        }
      ]
    },
    {
      "cell_type": "code",
      "source": [
        "y"
      ],
      "metadata": {
        "colab": {
          "base_uri": "https://localhost:8080/"
        },
        "id": "z66S7ewC8ma-",
        "outputId": "dbd92493-58ab-452d-c289-78dea8f4390e"
      },
      "execution_count": null,
      "outputs": [
        {
          "output_type": "execute_result",
          "data": {
            "text/plain": [
              "array([[6, 5, 6],\n",
              "       [8, 6, 9],\n",
              "       [1, 7, 1]])"
            ]
          },
          "metadata": {},
          "execution_count": 57
        }
      ]
    },
    {
      "cell_type": "code",
      "source": [
        "np.add(x,2)"
      ],
      "metadata": {
        "colab": {
          "base_uri": "https://localhost:8080/"
        },
        "id": "4UldfhE88mYv",
        "outputId": "e314b6b8-e1ed-468d-fe45-f8574b3bbf7e"
      },
      "execution_count": null,
      "outputs": [
        {
          "output_type": "execute_result",
          "data": {
            "text/plain": [
              "array([[8, 6, 7],\n",
              "       [4, 2, 4],\n",
              "       [4, 7, 2]])"
            ]
          },
          "metadata": {},
          "execution_count": 58
        }
      ]
    },
    {
      "cell_type": "code",
      "source": [
        "np.multiply(x,2)"
      ],
      "metadata": {
        "colab": {
          "base_uri": "https://localhost:8080/"
        },
        "id": "wOOK2p-k9SbL",
        "outputId": "2f180ede-a586-4971-9cfd-bbfb96468da1"
      },
      "execution_count": null,
      "outputs": [
        {
          "output_type": "execute_result",
          "data": {
            "text/plain": [
              "array([[12,  8, 10],\n",
              "       [ 4,  0,  4],\n",
              "       [ 4, 10,  0]])"
            ]
          },
          "metadata": {},
          "execution_count": 59
        }
      ]
    },
    {
      "cell_type": "code",
      "source": [
        "np.multiply(x,4)"
      ],
      "metadata": {
        "id": "rSMXwflZ8mWG",
        "colab": {
          "base_uri": "https://localhost:8080/"
        },
        "outputId": "6a0a04bf-edba-4309-ed5b-c92f23825863"
      },
      "execution_count": null,
      "outputs": [
        {
          "output_type": "execute_result",
          "data": {
            "text/plain": [
              "array([[24, 16, 20],\n",
              "       [ 8,  0,  8],\n",
              "       [ 8, 20,  0]])"
            ]
          },
          "metadata": {},
          "execution_count": 60
        }
      ]
    },
    {
      "cell_type": "code",
      "source": [
        "np.divide(x,2)"
      ],
      "metadata": {
        "colab": {
          "base_uri": "https://localhost:8080/"
        },
        "id": "aNV89sHxpox6",
        "outputId": "cdd41693-c813-46bd-e62f-970ef5f1ef2e"
      },
      "execution_count": null,
      "outputs": [
        {
          "output_type": "execute_result",
          "data": {
            "text/plain": [
              "array([[3. , 2. , 2.5],\n",
              "       [1. , 0. , 1. ],\n",
              "       [1. , 2.5, 0. ]])"
            ]
          },
          "metadata": {},
          "execution_count": 61
        }
      ]
    },
    {
      "cell_type": "code",
      "source": [
        "np.floor_divide(x,2)"
      ],
      "metadata": {
        "colab": {
          "base_uri": "https://localhost:8080/"
        },
        "id": "6HI7E8EWpoui",
        "outputId": "35238f40-36fa-4985-8a96-e58861e86430"
      },
      "execution_count": null,
      "outputs": [
        {
          "output_type": "execute_result",
          "data": {
            "text/plain": [
              "array([[3, 2, 2],\n",
              "       [1, 0, 1],\n",
              "       [1, 2, 0]])"
            ]
          },
          "metadata": {},
          "execution_count": 62
        }
      ]
    },
    {
      "cell_type": "code",
      "source": [],
      "metadata": {
        "id": "Q3eJZwrOposJ"
      },
      "execution_count": null,
      "outputs": []
    },
    {
      "cell_type": "code",
      "source": [
        "np.exp(x)"
      ],
      "metadata": {
        "colab": {
          "base_uri": "https://localhost:8080/"
        },
        "id": "ivR9wYRVpopy",
        "outputId": "28f273a1-3529-49c7-d0e6-b086dc869ce3"
      },
      "execution_count": null,
      "outputs": [
        {
          "output_type": "execute_result",
          "data": {
            "text/plain": [
              "array([[403.42879349,  54.59815003, 148.4131591 ],\n",
              "       [  7.3890561 ,   1.        ,   7.3890561 ],\n",
              "       [  7.3890561 , 148.4131591 ,   1.        ]])"
            ]
          },
          "metadata": {},
          "execution_count": 63
        }
      ]
    },
    {
      "cell_type": "code",
      "source": [
        "np.pow(x,2)"
      ],
      "metadata": {
        "id": "RIahlHu7ponL",
        "colab": {
          "base_uri": "https://localhost:8080/"
        },
        "outputId": "b44d4a8f-5346-409f-d9ef-ff7b78d0da62"
      },
      "execution_count": null,
      "outputs": [
        {
          "output_type": "execute_result",
          "data": {
            "text/plain": [
              "array([[36, 16, 25],\n",
              "       [ 4,  0,  4],\n",
              "       [ 4, 25,  0]])"
            ]
          },
          "metadata": {},
          "execution_count": 64
        }
      ]
    },
    {
      "cell_type": "code",
      "source": [
        "np.random.rand(5,5)"
      ],
      "metadata": {
        "id": "8IF8zOoepoki",
        "colab": {
          "base_uri": "https://localhost:8080/"
        },
        "outputId": "9fc103a2-3e79-451e-f8db-bce2ac9b774f"
      },
      "execution_count": null,
      "outputs": [
        {
          "output_type": "execute_result",
          "data": {
            "text/plain": [
              "array([[0.13365604, 0.0953532 , 0.86453928, 0.32209384, 0.46208148],\n",
              "       [0.91312943, 0.23266533, 0.69760119, 0.52860043, 0.1531952 ],\n",
              "       [0.79814463, 0.50835465, 0.5126988 , 0.87800975, 0.15297344],\n",
              "       [0.84646312, 0.41196609, 0.49325984, 0.03397969, 0.26504484],\n",
              "       [0.19023242, 0.03365103, 0.42988545, 0.46518581, 0.22756156]])"
            ]
          },
          "metadata": {},
          "execution_count": 65
        }
      ]
    },
    {
      "cell_type": "code",
      "source": [
        "np.random.randn(1000,1000).std()"
      ],
      "metadata": {
        "id": "lccUNuAvpoh6",
        "colab": {
          "base_uri": "https://localhost:8080/"
        },
        "outputId": "0ec277ab-77cb-49e3-f3a9-8085783869d7"
      },
      "execution_count": null,
      "outputs": [
        {
          "output_type": "execute_result",
          "data": {
            "text/plain": [
              "np.float64(0.9999026970873445)"
            ]
          },
          "metadata": {},
          "execution_count": 66
        }
      ]
    },
    {
      "cell_type": "code",
      "source": [
        "np.ones(5)"
      ],
      "metadata": {
        "id": "h_DlXEQlpofX",
        "colab": {
          "base_uri": "https://localhost:8080/"
        },
        "outputId": "b9b5bcc2-debd-4e5a-b447-dbcc71fa5ec3"
      },
      "execution_count": null,
      "outputs": [
        {
          "output_type": "execute_result",
          "data": {
            "text/plain": [
              "array([1., 1., 1., 1., 1.])"
            ]
          },
          "metadata": {},
          "execution_count": 67
        }
      ]
    },
    {
      "cell_type": "code",
      "source": [],
      "metadata": {
        "id": "yXuTMYzApodA"
      },
      "execution_count": null,
      "outputs": []
    },
    {
      "cell_type": "code",
      "source": [
        "np.zeros(5)"
      ],
      "metadata": {
        "id": "G1P6nOPLpoaf",
        "colab": {
          "base_uri": "https://localhost:8080/"
        },
        "outputId": "bc77bf76-ba11-48ed-e0db-dc2a7425d6e6"
      },
      "execution_count": null,
      "outputs": [
        {
          "output_type": "execute_result",
          "data": {
            "text/plain": [
              "array([0., 0., 0., 0., 0.])"
            ]
          },
          "metadata": {},
          "execution_count": 68
        }
      ]
    },
    {
      "cell_type": "code",
      "source": [
        "np.ones(5)"
      ],
      "metadata": {
        "id": "DVbGat2QpoYS",
        "colab": {
          "base_uri": "https://localhost:8080/"
        },
        "outputId": "b6d11e51-a170-4c64-c075-c4c56f8b14a0"
      },
      "execution_count": null,
      "outputs": [
        {
          "output_type": "execute_result",
          "data": {
            "text/plain": [
              "array([1., 1., 1., 1., 1.])"
            ]
          },
          "metadata": {},
          "execution_count": 69
        }
      ]
    },
    {
      "cell_type": "code",
      "source": [
        "np.ones((5,5))"
      ],
      "metadata": {
        "id": "3KzRq6IppoVr",
        "colab": {
          "base_uri": "https://localhost:8080/"
        },
        "outputId": "52180982-a13b-4d45-ce38-aa72c7190991"
      },
      "execution_count": null,
      "outputs": [
        {
          "output_type": "execute_result",
          "data": {
            "text/plain": [
              "array([[1., 1., 1., 1., 1.],\n",
              "       [1., 1., 1., 1., 1.],\n",
              "       [1., 1., 1., 1., 1.],\n",
              "       [1., 1., 1., 1., 1.],\n",
              "       [1., 1., 1., 1., 1.]])"
            ]
          },
          "metadata": {},
          "execution_count": 70
        }
      ]
    },
    {
      "cell_type": "code",
      "source": [
        "data=np.random.randint(0,10,(5,5))"
      ],
      "metadata": {
        "id": "p-TC9RBSpoTB"
      },
      "execution_count": null,
      "outputs": []
    },
    {
      "cell_type": "code",
      "source": [
        "data"
      ],
      "metadata": {
        "id": "kr7SEleS9Sfr",
        "colab": {
          "base_uri": "https://localhost:8080/"
        },
        "outputId": "68ee54f6-6bd0-4ca5-e6d1-41b8e1956843"
      },
      "execution_count": null,
      "outputs": [
        {
          "output_type": "execute_result",
          "data": {
            "text/plain": [
              "array([[4, 2, 9, 1, 3],\n",
              "       [8, 5, 3, 6, 8],\n",
              "       [5, 8, 1, 6, 9],\n",
              "       [1, 2, 5, 4, 1],\n",
              "       [6, 3, 0, 2, 1]])"
            ]
          },
          "metadata": {},
          "execution_count": 74
        }
      ]
    },
    {
      "cell_type": "code",
      "source": [
        "print(data.sum())\n",
        "print(data.max())\n",
        "print(data.min())"
      ],
      "metadata": {
        "colab": {
          "base_uri": "https://localhost:8080/"
        },
        "id": "ESewYQ1uwNGl",
        "outputId": "fc3c6b7c-64de-4542-b6a6-3d558fee633b"
      },
      "execution_count": null,
      "outputs": [
        {
          "output_type": "stream",
          "name": "stdout",
          "text": [
            "103\n",
            "9\n",
            "0\n"
          ]
        }
      ]
    },
    {
      "cell_type": "code",
      "source": [
        "data.argmax()"
      ],
      "metadata": {
        "colab": {
          "base_uri": "https://localhost:8080/"
        },
        "id": "BceKxgUawRCP",
        "outputId": "c9896e89-0bce-47bf-eae1-8fd090dabc8e"
      },
      "execution_count": null,
      "outputs": [
        {
          "output_type": "execute_result",
          "data": {
            "text/plain": [
              "np.int64(2)"
            ]
          },
          "metadata": {},
          "execution_count": 79
        }
      ]
    },
    {
      "cell_type": "code",
      "source": [
        "data=np.random.randint(0,10,(3,3))"
      ],
      "metadata": {
        "id": "I9qMFnAcwRmm"
      },
      "execution_count": null,
      "outputs": []
    },
    {
      "cell_type": "code",
      "source": [
        "data"
      ],
      "metadata": {
        "colab": {
          "base_uri": "https://localhost:8080/"
        },
        "id": "RxQClSnZwRsS",
        "outputId": "27dc0754-8901-4f2d-ae74-4f1f9ab516dd"
      },
      "execution_count": null,
      "outputs": [
        {
          "output_type": "execute_result",
          "data": {
            "text/plain": [
              "array([[2, 0, 1],\n",
              "       [0, 7, 4],\n",
              "       [7, 5, 2]])"
            ]
          },
          "metadata": {},
          "execution_count": 94
        }
      ]
    },
    {
      "cell_type": "code",
      "source": [
        "data.sum(axis=1)"
      ],
      "metadata": {
        "colab": {
          "base_uri": "https://localhost:8080/"
        },
        "id": "jaZrG0RzxPbZ",
        "outputId": "0433d7cf-0cfe-4708-8185-a28ae7c8d0af"
      },
      "execution_count": null,
      "outputs": [
        {
          "output_type": "execute_result",
          "data": {
            "text/plain": [
              "array([ 3, 11, 14])"
            ]
          },
          "metadata": {},
          "execution_count": 95
        }
      ]
    },
    {
      "cell_type": "code",
      "source": [
        "data.sum(axis=0)"
      ],
      "metadata": {
        "colab": {
          "base_uri": "https://localhost:8080/"
        },
        "id": "XJwvQ7Q4xPXw",
        "outputId": "f2536666-9c95-49ab-c5e9-b98c934d8cd9"
      },
      "execution_count": null,
      "outputs": [
        {
          "output_type": "execute_result",
          "data": {
            "text/plain": [
              "array([ 9, 12,  7])"
            ]
          },
          "metadata": {},
          "execution_count": 96
        }
      ]
    },
    {
      "cell_type": "code",
      "source": [
        "data"
      ],
      "metadata": {
        "colab": {
          "base_uri": "https://localhost:8080/"
        },
        "id": "lUOO5gHSxPUP",
        "outputId": "35aeb009-a98c-4170-e591-0b069ec0523f"
      },
      "execution_count": null,
      "outputs": [
        {
          "output_type": "execute_result",
          "data": {
            "text/plain": [
              "array([[2, 0, 1],\n",
              "       [0, 7, 4],\n",
              "       [7, 5, 2]])"
            ]
          },
          "metadata": {},
          "execution_count": 97
        }
      ]
    },
    {
      "cell_type": "code",
      "source": [
        "data.argmin(axis=1)"
      ],
      "metadata": {
        "colab": {
          "base_uri": "https://localhost:8080/"
        },
        "id": "IP7fDUruxPR0",
        "outputId": "95dbc03e-051d-466a-e746-808cde5a6c3c"
      },
      "execution_count": null,
      "outputs": [
        {
          "output_type": "execute_result",
          "data": {
            "text/plain": [
              "array([1, 0, 2])"
            ]
          },
          "metadata": {},
          "execution_count": 98
        }
      ]
    },
    {
      "cell_type": "code",
      "source": [
        "data.argmin(axis=0)"
      ],
      "metadata": {
        "colab": {
          "base_uri": "https://localhost:8080/"
        },
        "id": "NEyblLABxPPq",
        "outputId": "51ca867f-ebd9-486a-a97d-414fb7ae4c63"
      },
      "execution_count": null,
      "outputs": [
        {
          "output_type": "execute_result",
          "data": {
            "text/plain": [
              "array([1, 0, 0])"
            ]
          },
          "metadata": {},
          "execution_count": 100
        }
      ]
    },
    {
      "cell_type": "code",
      "source": [
        "data.max(axis=0)"
      ],
      "metadata": {
        "colab": {
          "base_uri": "https://localhost:8080/"
        },
        "id": "I14yoM3ny7So",
        "outputId": "23f05e83-2d5d-40e1-f28c-8d7c3cccba82"
      },
      "execution_count": null,
      "outputs": [
        {
          "output_type": "execute_result",
          "data": {
            "text/plain": [
              "array([7, 7, 4])"
            ]
          },
          "metadata": {},
          "execution_count": 101
        }
      ]
    },
    {
      "cell_type": "code",
      "source": [],
      "metadata": {
        "id": "3DUoq5hTy7PR"
      },
      "execution_count": null,
      "outputs": []
    },
    {
      "cell_type": "code",
      "source": [],
      "metadata": {
        "id": "2FM_-tH-y7M1"
      },
      "execution_count": null,
      "outputs": []
    },
    {
      "cell_type": "code",
      "source": [],
      "metadata": {
        "id": "_0--lljqxPNO"
      },
      "execution_count": null,
      "outputs": []
    },
    {
      "cell_type": "code",
      "source": [],
      "metadata": {
        "id": "plOQAqzTxPKo"
      },
      "execution_count": null,
      "outputs": []
    }
  ]
}